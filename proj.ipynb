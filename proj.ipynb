{
  "nbformat": 4,
  "nbformat_minor": 0,
  "metadata": {
    "colab": {
      "name": "프로젝트(크롤링)_전체.ipynb",
      "provenance": [],
      "collapsed_sections": [],
      "authorship_tag": "ABX9TyNkaXRAg1SDrBpU5u4gx04v",
      "include_colab_link": true
    },
    "kernelspec": {
      "name": "python3",
      "display_name": "Python 3"
    }
  },
  "cells": [
    {
      "cell_type": "markdown",
      "metadata": {
        "id": "view-in-github",
        "colab_type": "text"
      },
      "source": [
        "<a href=\"https://colab.research.google.com/github/inah0521/inah0521.github.io/blob/master/proj.ipynb\" target=\"_parent\"><img src=\"https://colab.research.google.com/assets/colab-badge.svg\" alt=\"Open In Colab\"/></a>"
      ]
    },
    {
      "cell_type": "code",
      "metadata": {
        "id": "BbqLWM6xrgOS",
        "colab_type": "code",
        "outputId": "93d9b31a-20eb-4574-f8e9-11d98afbbd92",
        "colab": {
          "base_uri": "https://localhost:8080/",
          "height": 193
        }
      },
      "source": [
        "from urllib.request import urlopen, Request\n",
        "import urllib\n",
        "import bs4\n",
        "import time\n",
        "from datetime import datetime\n",
        "import re\n",
        "\n",
        "\n",
        "\n",
        "today_time = datetime.today().strftime(\"%Y%m%d%H%M%S\") # 오늘 날짜 리턴\n",
        "get_today=today_time[0:10] #현재날짜 url적용용\n",
        "\n",
        "location = '부성2동'  ##추후에 gps어케 할건지 생각하기\n",
        "enc_location = urllib.parse.quote(location + '+날씨') #크롤링을 위한 링크용\n",
        "\n",
        "areaNo = 1100000000\n",
        "\n",
        "#네이버 싸이트 날씨 가져오는 함수 DAY\n",
        "def today_weather(enc_location):\n",
        "\n",
        " html_url = 'https://search.naver.com/search.naver?sm=top_hty&fbm=1&ie=utf8&query='+ enc_location #네이버 지역 날씨 화면\n",
        "\n",
        " req = Request(html_url)  #날씨 url\n",
        " page = urlopen(req)\n",
        " html = page.read()\n",
        " soup = bs4.BeautifulSoup(html,'html5lib')  ###날씨 url\n",
        "\n",
        " data1 = soup.find('div', {'class': 'weather_box'})\n",
        " data2 = data1.findAll('dd')\n",
        " data3 = soup.find('div', {'class': 'table_info bytime _todayWeatherByTime'})\n",
        "\n",
        " Dust = float((data2[0].find('span', {'class':'num'}).text).strip('㎍/㎥'))   # 미세먼지\n",
        " TSP = float((data2[1].find('span', {'class':'num'}).text).strip('㎍/㎥'))   # 초미세먼지\n",
        " Ozone = float((data2[2].find('span', {'class':'num'}).text).strip('ppm'))  # 오존\n",
        " Temp = float(data1.find('span',{'class': 'todaytemp'}).text) #온도\n",
        " rainfall = float(data3.find('span',{'class': 'rain_rate level1'}).text)  #강수량\n",
        "\n",
        " \n",
        "\n",
        " return_weahter = [Dust,TSP,Ozone,Temp,rainfall]\n",
        "\n",
        " print (type(Dust))\n",
        " print (TSP)\n",
        " print (Ozone)\n",
        " print (Temp)\n",
        " print (rainfall)\n",
        " return return_weahter\n",
        "\n",
        "\n",
        "\n",
        "return_weahter = today_weather(enc_location)\n",
        "\n",
        "\n",
        "print('현재 미세먼지: ' , return_weahter[0])\n",
        "print('현재 초미세먼지: ' , return_weahter[1])\n",
        "print('현재 오존지수: ' , return_weahter[2])\n",
        "print('현재 ' , location , ' 날씨는 ' , return_weahter[3] , '도 입니다.' ,return_weahter[4] )\n",
        "\n",
        "\n",
        "def open__(return_weahter):  # 다 나쁨이하면 환기 가능 상태인 open 이 true가 됨\n",
        "\n",
        "    Dust     = return_weahter[0]\n",
        "    TSP      = return_weahter[1]\n",
        "    Ozone    = return_weahter[2]\n",
        "    weather  = return_weahter[3]\n",
        "    rainfall = return_weahter[4]\n",
        "\n",
        "    open_ = False\n",
        "\n",
        "    if Dust < 81.0 and TSP < 36.0 and Ozone < 0.091 and rainfall < 3.0 and rainfall != '-':\n",
        "        open_ = True\n",
        "    else:\n",
        "        open_ = False\n",
        "    return open_\n",
        "\n",
        "window_open = open__(return_weahter)\n",
        "print (window_open)\n",
        "\n",
        "\n",
        "\n"
      ],
      "execution_count": 2,
      "outputs": [
        {
          "output_type": "stream",
          "text": [
            "<class 'float'>\n",
            "14.0\n",
            "0.027\n",
            "14.0\n",
            "0.0\n",
            "현재 미세먼지:  34.0\n",
            "현재 초미세먼지:  14.0\n",
            "현재 오존지수:  0.027\n",
            "현재  부성2동  날씨는  14.0 도 입니다. 0.0\n",
            "True\n"
          ],
          "name": "stdout"
        }
      ]
    }
  ]
}